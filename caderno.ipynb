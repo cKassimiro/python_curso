{
 "cells": [
  {
   "cell_type": "markdown",
   "metadata": {},
   "source": [
    "# CADERNO"
   ]
  },
  {
   "cell_type": "markdown",
   "metadata": {},
   "source": [
    "# __builtins__ é modulo padrão que disponibiliza classes, funções etc."
   ]
  },
  {
   "cell_type": "code",
   "execution_count": 5,
   "metadata": {
    "tags": []
   },
   "outputs": [
    {
     "output_type": "stream",
     "name": "stdout",
     "text": "ha\nha\n"
    }
   ],
   "source": [
    "__builtins__.print('ha')\n",
    "\n",
    "print('ha')\n"
   ]
  },
  {
   "cell_type": "code",
   "execution_count": 6,
   "metadata": {
    "tags": []
   },
   "outputs": [
    {
     "output_type": "execute_result",
     "data": {
      "text/plain": "float"
     },
     "metadata": {},
     "execution_count": 6
    }
   ],
   "source": [
    "a = 2\n",
    "b = 2.0\n",
    "\n",
    "type (a)\n",
    "type (b)\n",
    "\n",
    "type (a + b)"
   ]
  },
  {
   "cell_type": "code",
   "execution_count": 7,
   "metadata": {
    "tags": []
   },
   "outputs": [
    {
     "output_type": "stream",
     "name": "stdout",
     "text": "4\n"
    }
   ],
   "source": [
    "# pequeno teste sobre 'len'\n",
    "\n",
    "nome = 'joao'\n",
    "quantidade = len(nome)\n",
    "\n",
    "print(quantidade)"
   ]
  },
  {
   "cell_type": "markdown",
   "metadata": {},
   "source": [
    "# CONVERSÃO DE TIPOS"
   ]
  },
  {
   "cell_type": "code",
   "execution_count": 8,
   "metadata": {
    "tags": []
   },
   "outputs": [
    {
     "output_type": "stream",
     "name": "stdout",
     "text": "<class 'int'>\n<class 'str'>\n7\n25\n<class 'str'>\n"
    }
   ],
   "source": [
    "a = 2\n",
    "b = '5'\n",
    "\n",
    "print(type(a))\n",
    "print(type(b))\n",
    "\n",
    "print(a + int(b))\n",
    "print(str(a) + b)\n",
    "\n",
    "print(type(str(a)))\n"
   ]
  },
  {
   "cell_type": "markdown",
   "metadata": {},
   "source": [
    "# COERÇÃO AUTOMATICA"
   ]
  },
  {
   "cell_type": "code",
   "execution_count": 9,
   "metadata": {},
   "outputs": [
    {
     "output_type": "execute_result",
     "data": {
      "text/plain": "float"
     },
     "metadata": {},
     "execution_count": 9
    }
   ],
   "source": [
    "10 / 2\n",
    "type(10 / 2)\n",
    "10 / 3\n",
    "10 // 3\n",
    "type(10 // 3)\n",
    "10 // 3.3\n",
    "type (10 // 3.3)\n",
    "10 / 2.5\n",
    "2 + True\n",
    "2 + False\n",
    "type (1 + 2)\n",
    "type (1 + 2.5)"
   ]
  },
  {
   "cell_type": "markdown",
   "metadata": {},
   "source": [
    "# TIPOS NUMERICOS"
   ]
  },
  {
   "cell_type": "code",
   "execution_count": 10,
   "metadata": {},
   "outputs": [
    {
     "output_type": "execute_result",
     "data": {
      "text/plain": "3.6"
     },
     "metadata": {},
     "execution_count": 10
    }
   ],
   "source": [
    "dir(int)\n",
    "dir(float)\n",
    "\n",
    "a = 5\n",
    "b = 2.5\n",
    "\n",
    "a / b\n",
    "a + b\n",
    "a * b\n",
    "\n",
    "type(a)\n",
    "type(b)\n",
    "\n",
    "b.is_integer()\n",
    "5.0.is_integer()\n",
    "5.1.is_integer()\n",
    "\n",
    "int.__add__(2 , 5)\n",
    "2 + 5\n",
    "\n",
    "(-2).__abs__() # FUNÇÃO DO __INT__\n",
    "abs(-2) # FUNÇÃO DO __BUILTINS__\n",
    "\n",
    "(-3.6).__abs__()\n",
    "dir(float)\n",
    "abs(-3.6)"
   ]
  },
  {
   "cell_type": "code",
   "execution_count": 11,
   "metadata": {},
   "outputs": [
    {
     "output_type": "execute_result",
     "data": {
      "text/plain": "Decimal('3.300')"
     },
     "metadata": {},
     "execution_count": 11
    }
   ],
   "source": [
    "1.1 + 2.2\n",
    "\n",
    "from decimal import Decimal, getcontext # Função que exibe numero quebrado com precisão\n",
    "\n",
    "Decimal (1) / Decimal (7)\n",
    "\n",
    "getcontext().prec = 4\n",
    "Decimal (1) / Decimal (7)\n",
    "\n",
    "Decimal.max(Decimal(1), Decimal (7))\n",
    "\n",
    "dir(Decimal)\n",
    "\n",
    "Decimal (1.1) + Decimal (2.2)\n"
   ]
  },
  {
   "cell_type": "markdown",
   "metadata": {},
   "source": [
    "# TIPOS STRINGS"
   ]
  },
  {
   "cell_type": "code",
   "execution_count": 12,
   "metadata": {},
   "outputs": [
    {
     "output_type": "execute_result",
     "data": {
      "text/plain": "'0987654321'"
     },
     "metadata": {},
     "execution_count": 12
    }
   ],
   "source": [
    "dir(str)\n",
    "nome = 'Saulo Pedro'\n",
    "nome\n",
    "nome [0]\n",
    "\n",
    "nome = 'Ana Paula'\n",
    "nome\n",
    "nome [0]\n",
    "nome [1:]\n",
    "nome [-4:]\n",
    "nome [:3]\n",
    "nome [2:5]\n",
    "\n",
    "numeros = '1234567890'\n",
    "numeros\n",
    "numeros [::]\n",
    "numeros [::2]\n",
    "numeros [1::2]\n",
    "numeros [:: -1] # INVERTER STRING\n"
   ]
  },
  {
   "cell_type": "code",
   "execution_count": 13,
   "metadata": {},
   "outputs": [
    {
     "output_type": "execute_result",
     "data": {
      "text/plain": "['PYTHON É UM', ' LINGU', 'GEM EXCELENTE']"
     },
     "metadata": {},
     "execution_count": 13
    }
   ],
   "source": [
    "frase = 'Python é uma linguagem excelente'\n",
    "'py' in frase\n",
    "'ing' in frase\n",
    "len(frase)\n",
    "frase.lower() # DEIXAR MINUSCULO\n",
    "'py' in frase.lower()\n",
    "frase.upper() # DEIXAR MAIUSCULO\n",
    "frase =  frase.upper() \n",
    "frase.split()\n",
    "frase.split('A')\n"
   ]
  },
  {
   "cell_type": "markdown",
   "metadata": {},
   "source": [
    "# LISTAS []"
   ]
  },
  {
   "cell_type": "code",
   "execution_count": 10,
   "metadata": {
    "tags": []
   },
   "outputs": [
    {
     "output_type": "execute_result",
     "data": {
      "text/plain": "[1, 5]"
     },
     "metadata": {},
     "execution_count": 10
    }
   ],
   "source": [
    "lista = []\n",
    "type(lista)\n",
    "lista.append(1)\n",
    "lista.append(5)\n",
    "len(lista)\n",
    "\n",
    "nova_lista = [1, 5, 'Ana', 'Bia']\n",
    "nova_lista\n",
    "\n",
    "len(nova_lista)\n",
    "\n",
    "nova_lista.remove(5)\n",
    "nova_lista\n",
    "\n",
    "nova_lista.reverse()\n",
    "nova_lista\n",
    "\n",
    "lista"
   ]
  },
  {
   "cell_type": "code",
   "execution_count": 15,
   "metadata": {},
   "outputs": [
    {
     "output_type": "execute_result",
     "data": {
      "text/plain": "3.1415"
     },
     "metadata": {},
     "execution_count": 15
    }
   ],
   "source": [
    "lista = [1, 5, 'Rebeca', 'Guilherme', 3.1415]\n",
    "lista.index('Guilherme')\n",
    "lista[2]\n",
    "1 in lista\n",
    "'Rebeca' in lista\n",
    "'Pedro' not in lista\n",
    "lista[0]\n",
    "lista[4]\n",
    "lista[-1]\n"
   ]
  },
  {
   "cell_type": "code",
   "execution_count": 16,
   "metadata": {},
   "outputs": [
    {
     "output_type": "execute_result",
     "data": {
      "text/plain": "['Ana']"
     },
     "metadata": {},
     "execution_count": 16
    }
   ],
   "source": [
    "lista = ['Ana', 'Lia', 'Rui', 'Paulo', 'Dani']\n",
    "lista[1:3]\n",
    "lista[:3]\n",
    "lista[1:-1]\n",
    "lista[:-1]\n",
    "lista[:]\n",
    "lista[::2]\n",
    "lista[::-1] # INVERTE\n",
    "del lista[2]\n",
    "lista\n",
    "del lista[1:]\n",
    "lista\n"
   ]
  },
  {
   "cell_type": "markdown",
   "metadata": {},
   "source": [
    "# TUPLA ()"
   ]
  },
  {
   "cell_type": "code",
   "execution_count": 17,
   "metadata": {
    "tags": []
   },
   "outputs": [
    {
     "output_type": "execute_result",
     "data": {
      "text/plain": "5"
     },
     "metadata": {},
     "execution_count": 17
    }
   ],
   "source": [
    "tupla = tuple()\n",
    "tupla = ()\n",
    "type(tupla)\n",
    "\n",
    "dir(tupla)\n",
    "# help(tuple)\n",
    "\n",
    "tupla = ('um') #CUIDADO, STRING \n",
    "type(tupla)\n",
    "\n",
    "tupla = ('um',) #AGORA SIM, TUPLA XD\n",
    "type(tupla)\n",
    "\n",
    "tupla[0]\n",
    "\n",
    "cores = ('verde', 'amarelo', 'azul', 'azul', 'branco')\n",
    "type(cores)\n",
    "cores[1]\n",
    "cores[::1]\n",
    "\n",
    "cores.index('azul')\n",
    "cores.count('azul')\n",
    "\n",
    "len(cores)"
   ]
  },
  {
   "cell_type": "markdown",
   "metadata": {},
   "source": [
    "# TUPLA VS LISTA\n",
    "\n",
    "# TUPLA IMUTAVEL X LISTA MUTAVEL\n",
    "# TUPLA ()       X LISTA []"
   ]
  },
  {
   "cell_type": "markdown",
   "metadata": {},
   "source": [
    "# DICIONARIO {}"
   ]
  },
  {
   "cell_type": "code",
   "execution_count": 18,
   "metadata": {},
   "outputs": [
    {
     "output_type": "execute_result",
     "data": {
      "text/plain": "[]"
     },
     "metadata": {},
     "execution_count": 18
    }
   ],
   "source": [
    "pessoa = {'nome': 'prof(a). Ana', 'idade': 38, 'cursos': ['ingles', 'portugues']}\n",
    "type(pessoa)\n",
    "len(pessoa)\n",
    "\n",
    "pessoa\n",
    "pessoa['nome']\n",
    "pessoa['idade']\n",
    "pessoa['cursos']\n",
    "pessoa['cursos'] [1]\n",
    "pessoa['cursos'] [0]\n",
    "\n",
    "pessoa.keys() #CHAVES DO DICIONARIO\n",
    "pessoa.values() #VALORES DO DICIONARIO\n",
    "pessoa.items() #CHAVES E VALORES DO DICIONARIO\n",
    "pessoa.get('idade')\n",
    "pessoa.get('tags', [])\n",
    " \n"
   ]
  },
  {
   "cell_type": "code",
   "execution_count": 19,
   "metadata": {},
   "outputs": [
    {
     "output_type": "execute_result",
     "data": {
      "text/plain": "{}"
     },
     "metadata": {},
     "execution_count": 19
    }
   ],
   "source": [
    "pessoa = {'nome': 'Prof. Alberto', 'idade': 43, 'cursos': ['React', 'Python']}\n",
    "pessoa['idade'] = 44\n",
    "pessoa['cursos'].append('Angular')\n",
    "pessoa\n",
    "\n",
    "pessoa.pop('idade') #LE O VALOR E RETIRA\n",
    "pessoa\n",
    "\n",
    "pessoa.update({'idade': 40, 'sexo': 'M'}) #NOVOS VALORES\n",
    "pessoa\n",
    "\n",
    "del pessoa['cursos'] #RETIRA O VALOR\n",
    "pessoa\n",
    "\n",
    "pessoa.clear() #LIMPA O CONTEUDO DO DICIONARIO\n",
    "pessoa"
   ]
  },
  {
   "cell_type": "markdown",
   "metadata": {},
   "source": [
    "# CONJUNTO {}"
   ]
  },
  {
   "cell_type": "code",
   "execution_count": 20,
   "metadata": {
    "tags": []
   },
   "outputs": [
    {
     "output_type": "stream",
     "name": "stdout",
     "text": "{'3', 'o', 'd', 'c', 'r'}\n"
    },
    {
     "output_type": "execute_result",
     "data": {
      "text/plain": "{1, 3}"
     },
     "metadata": {},
     "execution_count": 20
    }
   ],
   "source": [
    "a = {1, 2, 3}\n",
    "type(a)\n",
    "a = set('cod3r')\n",
    "print(a)\n",
    "\n",
    "{1, 2, 3} == {3, 3, 2, 2, 1, 2}\n",
    "\n",
    "# Operações\n",
    "\n",
    "c1 = {1, 2}\n",
    "c2 = {2, 3}\n",
    "c3 = c1.union(c2)\n",
    "c3\n",
    "\n",
    "c4 = c1.intersection(c2)\n",
    "c4\n",
    "\n",
    "c1.update(c2) #INSERIR VALOR NO CONJUNTO\n",
    "c1\n",
    "\n",
    "c2 <= c1\n",
    "c1 >= c2\n",
    "\n",
    "{1, 2, 3} - {2}\n",
    "{1, 2, 3} - {2, 3}\n",
    "\n",
    "c1 - c2\n",
    "\n",
    "c1 -= {2}\n",
    "c1"
   ]
  },
  {
   "cell_type": "markdown",
   "metadata": {},
   "source": [
    "# INTERPOLAÇÃO"
   ]
  },
  {
   "cell_type": "code",
   "execution_count": 21,
   "metadata": {
    "tags": []
   },
   "outputs": [
    {
     "output_type": "stream",
     "name": "stdout",
     "text": "Nome: Ana \nIdade 30.8 True False 1 0\nNome: Ana \nIdade: 30.8\nNome: Ana \nIdade: 30.8 257\nNome: Ana \nIdade: 30.7654654\n"
    }
   ],
   "source": [
    "from string import Template\n",
    "\n",
    "nome, idade = 'Ana', 30.7654654 \n",
    "\n",
    "print('Nome: %s \\nIdade %.1f %r %r %d %d' % (nome, idade, True, False, True, False))\n",
    "\n",
    "print('Nome: {0} \\nIdade: {1:.1f}'.format(nome, idade))\n",
    "\n",
    "print(f'Nome: {nome} \\nIdade: {idade:.1f} {2 ** 8 + 1}')\n",
    "\n",
    "s = Template('Nome: $nome \\nIdade: $idade')\n",
    "print(s.substitute(nome=nome, idade=idade))\n"
   ]
  },
  {
   "cell_type": "code",
   "execution_count": 22,
   "metadata": {
    "tags": []
   },
   "outputs": [
    {
     "output_type": "stream",
     "name": "stdout",
     "text": "314.15000000000003\n"
    }
   ],
   "source": [
    "pi = 3.1415\n",
    "r = 10\n",
    "operacao = pi * r**2\n",
    "\n",
    "print(operacao)"
   ]
  },
  {
   "cell_type": "markdown",
   "metadata": {},
   "source": [
    "# IMPORTANTO MODULOS"
   ]
  },
  {
   "cell_type": "code",
   "execution_count": 23,
   "metadata": {},
   "outputs": [
    {
     "output_type": "execute_result",
     "data": {
      "text/plain": "3.141592653589793"
     },
     "metadata": {},
     "execution_count": 23
    }
   ],
   "source": [
    "import math\n",
    "\n",
    "math.pi"
   ]
  },
  {
   "cell_type": "code",
   "execution_count": 10,
   "metadata": {},
   "outputs": [
    {
     "output_type": "execute_result",
     "data": {
      "text/plain": "3.141592653589793"
     },
     "metadata": {},
     "execution_count": 10
    }
   ],
   "source": [
    "from math import pi\n",
    "\n",
    "pi"
   ]
  },
  {
   "cell_type": "code",
   "execution_count": 17,
   "metadata": {},
   "outputs": [
    {
     "output_type": "execute_result",
     "data": {
      "text/plain": "3.141592653589793"
     },
     "metadata": {},
     "execution_count": 17
    }
   ],
   "source": [
    "import math as m\n",
    "\n",
    "m.pi"
   ]
  },
  {
   "cell_type": "markdown",
   "metadata": {},
   "source": [
    "# ELSE IF ELIF"
   ]
  },
  {
   "cell_type": "code",
   "execution_count": 1,
   "metadata": {
    "tags": []
   },
   "outputs": [
    {
     "output_type": "stream",
     "name": "stdout",
     "text": "Recuperação\n"
    }
   ],
   "source": [
    "nota = float(input('Insira Valor da Nota:'))\n",
    "\n",
    "if nota >= 9:\n",
    "    print('Aprovado com Honra')\n",
    "elif nota >= 7:\n",
    "    print ('Aprovado')\n",
    "elif nota >= 5:\n",
    "    print('Recuperação')\n",
    "elif nota >= 3:\n",
    "    print('Recuperação + Trabalho')\n",
    "else:\n",
    "    print('Reprovado')"
   ]
  },
  {
   "cell_type": "code",
   "execution_count": null,
   "metadata": {},
   "outputs": [],
   "source": []
  }
 ],
 "metadata": {
  "language_info": {
   "codemirror_mode": {
    "name": "ipython",
    "version": 3
   },
   "file_extension": ".py",
   "mimetype": "text/x-python",
   "name": "python",
   "nbconvert_exporter": "python",
   "pygments_lexer": "ipython3",
   "version": "3.6.9-final"
  },
  "orig_nbformat": 2,
  "kernelspec": {
   "name": "python36964bit25b546e25a7a42ad9814ab57b462e706",
   "display_name": "Python 3.6.9 64-bit"
  }
 },
 "nbformat": 4,
 "nbformat_minor": 2
}